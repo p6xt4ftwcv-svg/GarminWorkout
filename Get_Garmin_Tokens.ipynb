{
 "cells": [
  {
   "cell_type": "markdown",
   "metadata": {
    "id": "header"
   },
   "source": [
    "# 🏃 Garmin Token Extractor - Get OAuth1 AND OAuth2 Tokens\n",
    "\n",
    "## ✅ Works with 2FA enabled!\n",
    "\n",
    "Run this in Google Colab to get ALL 4 tokens you need for Railway.\n",
    "\n",
    "**What this does:**\n",
    "- Logs into Garmin Connect (supports 2FA!)\n",
    "- Extracts OAuth2 tokens (access + refresh)\n",
    "- Extracts OAuth1 tokens (needed for API calls)\n",
    "- Saves to your Google Drive\n",
    "- Shows you exactly what to copy to Railway\n",
    "\n",
    "---"
   ]
  },
  {
   "cell_type": "markdown",
   "metadata": {
    "id": "step1"
   },
   "source": [
    "## Step 1: Install Garth\n",
    "\n",
    "This installs the Garmin authentication library."
   ]
  },
  {
   "cell_type": "code",
   "execution_count": null,
   "metadata": {
    "id": "install"
   },
   "outputs": [],
   "source": [
    "!pip install garth"
   ]
  },
  {
   "cell_type": "markdown",
   "metadata": {
    "id": "step2"
   },
   "source": [
    "## Step 2: Mount Google Drive\n",
    "\n",
    "This allows the notebook to save your tokens to your Google Drive for backup."
   ]
  },
  {
   "cell_type": "code",
   "execution_count": null,
   "metadata": {
    "id": "mount"
   },
   "outputs": [],
   "source": [
    "from google.colab import drive\n",
    "drive.mount('/content/drive')"
   ]
  },
  {
   "cell_type": "markdown",
   "metadata": {
    "id": "step3"
   },
   "source": [
    "## Step 3: Login and Get ALL Tokens\n",
    "\n",
    "**⚠️ If you have 2FA enabled:**\n",
    "- Enter your email and password first\n",
    "- When prompted \"MFA/Backup code:\", open your authenticator app\n",
    "- Enter the 6-digit code\n",
    "- Tokens will be extracted successfully!"
   ]
  },
  {
   "cell_type": "code",
   "execution_count": null,
   "metadata": {
    "id": "get_tokens"
   },
   "outputs": [],
   "source": [
    "import garth\n",
    "import json\n",
    "from getpass import getpass\n",
    "\n",
    "email = input(\"Enter your Garmin email: \")\n",
    "password = getpass(\"Enter your Garmin password (hidden): \")\n",
    "\n",
    "print(\"\\n📱 Logging into Garmin...\")\n",
    "garth.login(email, password)\n",
    "\n",
    "print(\"\\n✅ SUCCESS! Getting tokens...\")\n",
    "\n",
    "# Get OAuth2 token\n",
    "oauth2_token = garth.client.oauth2_token\n",
    "oauth2_dict = {\n",
    "    'access_token': oauth2_token.access_token,\n",
    "    'refresh_token': oauth2_token.refresh_token,\n",
    "    'token_type': oauth2_token.token_type,\n",
    "    'expires_at': oauth2_token.expires_at,\n",
    "    'scope': oauth2_token.scope\n",
    "}\n",
    "\n",
    "# Get OAuth1 token\n",
    "oauth1_token = garth.client.oauth1_token\n",
    "oauth1_dict = {\n",
    "    'oauth_token': oauth1_token.oauth_token,\n",
    "    'oauth_token_secret': oauth1_token.oauth_token_secret\n",
    "}\n",
    "\n",
    "all_tokens = {\n",
    "    'oauth2': oauth2_dict,\n",
    "    'oauth1': oauth1_dict\n",
    "}\n",
    "\n",
    "print(\"\\n\" + \"=\"*70)\n",
    "print(\"📋 ALL YOUR TOKENS:\")\n",
    "print(\"=\"*70)\n",
    "print(json.dumps(all_tokens, indent=2))\n",
    "\n",
    "# Save to Google Drive\n",
    "save_path = '/content/drive/MyDrive/garmin_all_tokens.json'\n",
    "with open(save_path, 'w') as f:\n",
    "    json.dump(all_tokens, f, indent=2)\n",
    "\n",
    "print(f\"\\n✅ Tokens saved to: {save_path}\")\n",
    "\n",
    "print(\"\\n\" + \"=\"*70)\n",
    "print(\"🎯 COPY THESE TO RAILWAY:\")\n",
    "print(\"=\"*70)\n",
    "print(\"\\n1. OAuth2 Access Token:\")\n",
    "print(f\"   Variable: GARMIN_OAUTH_ACCESS_TOKEN\")\n",
    "print(f\"   Value: {oauth2_dict['access_token']}\")\n",
    "\n",
    "print(\"\\n2. OAuth2 Refresh Token:\")\n",
    "print(f\"   Variable: GARMIN_OAUTH_REFRESH_TOKEN\")\n",
    "print(f\"   Value: {oauth2_dict['refresh_token']}\")\n",
    "\n",
    "print(\"\\n3. OAuth1 Token:\")\n",
    "print(f\"   Variable: GARMIN_OAUTH1_TOKEN\")\n",
    "print(f\"   Value: {oauth1_dict['oauth_token']}\")\n",
    "\n",
    "print(\"\\n4. OAuth1 Token Secret:\")\n",
    "print(f\"   Variable: GARMIN_OAUTH1_TOKEN_SECRET\")\n",
    "print(f\"   Value: {oauth1_dict['oauth_token_secret']}\")\n",
    "\n",
    "print(\"\\n\" + \"=\"*70)\n",
    "print(\"🚀 Add all 4 variables to Railway!\")\n",
    "print(\"=\"*70)"
   ]
  },
  {
   "cell_type": "markdown",
   "metadata": {
    "id": "instructions"
   },
   "source": [
    "---\n",
    "\n",
    "## 🎯 What You Need to Do Next:\n",
    "\n",
    "1. **Copy the 4 token values** from the output above\n",
    "2. **Go to Railway Dashboard** → Your Service → **Variables** tab\n",
    "3. **Update ALL 4 variables:**\n",
    "   - `GARMIN_OAUTH_ACCESS_TOKEN`\n",
    "   - `GARMIN_OAUTH_REFRESH_TOKEN`  \n",
    "   - `GARMIN_OAUTH1_TOKEN`\n",
    "   - `GARMIN_OAUTH1_TOKEN_SECRET`\n",
    "4. Railway will auto-deploy (1-2 minutes)\n",
    "5. **Test!** Go to your app and create a workout\n",
    "\n",
    "---\n",
    "\n",
    "## ✅ 2FA Support\n",
    "\n",
    "This notebook **fully supports two-factor authentication!**\n",
    "\n",
    "When running Cell 3:\n",
    "- Enter email and password normally\n",
    "- If 2FA is enabled, you'll see: **\"MFA/Backup code:\"**\n",
    "- Open your authenticator app (Google Authenticator, Authy, etc.)\n",
    "- Enter the 6-digit code\n",
    "- Done! ✅\n",
    "\n",
    "---\n",
    "\n",
    "## 📱 Perfect for iPad!\n",
    "\n",
    "This works great on iPad Safari:\n",
    "1. Upload this notebook to Google Colab\n",
    "2. Run all 3 cells\n",
    "3. Enter credentials when prompted\n",
    "4. Copy tokens to Railway\n",
    "\n",
    "---\n",
    "\n",
    "## 🔒 Security Notes\n",
    "\n",
    "- Your password is **never stored** anywhere\n",
    "- Tokens are saved to **your private Google Drive**\n",
    "- Don't share your tokens with anyone\n",
    "- The OAuth1 tokens are what Garmin uses for actual API calls!\n",
    "\n",
    "---\n",
    "\n",
    "## 🔄 When to Refresh Tokens\n",
    "\n",
    "Run this notebook again when you see **\"401 Unauthorized\"** errors in your Railway app.\n",
    "\n",
    "Token lifespans:\n",
    "- Access Token: ~1 hour (auto-refreshes)\n",
    "- Refresh Token: ~30 days\n",
    "- OAuth1 Tokens: Longer-lived"
   ]
  }
 ],
 "metadata": {
  "colab": {
   "name": "Get Garmin Tokens - Works with 2FA!",
   "provenance": []
  },
  "kernelspec": {
   "display_name": "Python 3",
   "language": "python",
   "name": "python3"
  },
  "language_info": {
   "codemirror_mode": {
    "name": "ipython",
    "version": 3
   },
   "file_extension": ".py",
   "mimetype": "text/x-python",
   "name": "python",
   "nbconvert_exporter": "python",
   "pygments_lexer": "ipython3",
   "version": "3.8.10"
  }
 },
 "nbformat": 4,
 "nbformat_minor": 0
}
