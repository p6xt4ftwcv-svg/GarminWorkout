{
 "cells": [
  {
   "cell_type": "markdown",
   "metadata": {
    "id": "header"
   },
   "source": [
    "# 🏃 Garmin OAuth Token Generator\n",
    "\n",
    "Use this notebook to get fresh OAuth tokens for your Garmin Workout Creator app.\n",
    "\n",
    "**What this does:**\n",
    "- Logs into your Garmin Connect account\n",
    "- Gets 4 OAuth tokens needed for Railway\n",
    "- Displays them so you can copy to Railway environment variables\n",
    "\n",
    "**Security:** Your password is never stored. Tokens are only shown to you."
   ]
  },
  {
   "cell_type": "markdown",
   "metadata": {
    "id": "step1"
   },
   "source": [
    "## Step 1: Install Required Package\n",
    "\n",
    "Run this cell to install `garth` (Garmin authentication library)"
   ]
  },
  {
   "cell_type": "code",
   "execution_count": null,
   "metadata": {
    "id": "install"
   },
   "outputs": [],
   "source": [
    "!pip install garth -q\n",
    "print(\"✅ Installation complete!\")"
   ]
  },
  {
   "cell_type": "markdown",
   "metadata": {
    "id": "step2"
   },
   "source": "## Step 2: Enter Your Garmin Credentials\n\n**✅ 2FA IS SUPPORTED!** If you have two-factor authentication enabled, you'll be prompted for your 2FA code after entering your password. Have your authenticator app ready!"
  },
  {
   "cell_type": "code",
   "execution_count": null,
   "metadata": {
    "id": "credentials"
   },
   "outputs": [],
   "source": [
    "import getpass\n",
    "\n",
    "print(\"🔐 Enter your Garmin Connect credentials:\\n\")\n",
    "email = input(\"Email: \")\n",
    "password = getpass.getpass(\"Password: \")\n",
    "\n",
    "print(\"\\n✅ Credentials received!\")"
   ]
  },
  {
   "cell_type": "markdown",
   "metadata": {
    "id": "step3"
   },
   "source": [
    "## Step 3: Get OAuth Tokens\n",
    "\n",
    "This will authenticate with Garmin and retrieve your tokens."
   ]
  },
  {
   "cell_type": "code",
   "execution_count": null,
   "metadata": {
    "id": "get_tokens"
   },
   "outputs": [],
   "source": "import garth\nfrom garth.exc import GarthHTTPError\n\ntry:\n    print(\"🔄 Authenticating with Garmin...\")\n    print(\"⚠️  If you have 2FA enabled, you'll be prompted for your code below\\n\")\n    \n    # This will automatically prompt for MFA/2FA if enabled\n    garth.login(email, password)\n    print(\"\\n✅ Login successful!\\n\")\n    \n    # Get OAuth2 tokens\n    oauth2_token = garth.client.oauth2_token\n    print(\"✅ OAuth2 tokens retrieved\")\n    \n    # Get OAuth1 tokens\n    oauth1_token = garth.client.oauth1_token\n    print(\"✅ OAuth1 tokens retrieved\\n\")\n    \n    print(\"=\" * 70)\n    print(\"🎉 SUCCESS! Here are your tokens:\")\n    print(\"=\" * 70)\n    print(\"\\n📋 Copy these EXACT lines to Railway Variables:\\n\")\n    \n    print(f\"GARMIN_OAUTH_ACCESS_TOKEN={oauth2_token.access_token}\")\n    print(f\"GARMIN_OAUTH_REFRESH_TOKEN={oauth2_token.refresh_token}\")\n    print(f\"GARMIN_OAUTH1_TOKEN={oauth1_token.oauth_token}\")\n    print(f\"GARMIN_OAUTH1_TOKEN_SECRET={oauth1_token.oauth_token_secret}\")\n    \n    print(\"\\n\" + \"=\" * 70)\n    print(\"\\n📝 Next Steps:\")\n    print(\"1. Copy the 4 lines above\")\n    print(\"2. Go to Railway Dashboard → Your Service → Variables\")\n    print(\"3. Update each variable with the new value\")\n    print(\"4. Railway will auto-deploy (takes 1-2 minutes)\")\n    print(\"5. Test by creating a workout!\")\n    print(\"\\n✨ You're all set!\")\n    \nexcept GarthHTTPError as e:\n    error_str = str(e)\n    print(f\"\\n❌ Authentication failed: {e}\")\n    print(\"\\nPossible reasons:\")\n    if \"MFA\" in error_str or \"verification\" in error_str.lower():\n        print(\"- 2FA code was incorrect or expired\")\n        print(\"- Try running the cell again and enter a fresh 2FA code\")\n    else:\n        print(\"- Wrong email or password\")\n        print(\"- Garmin account locked or needs verification\")\n        print(\"- Check that you can log in at connect.garmin.com\")\n    print(\"\\n💡 Try running the cells again with correct credentials\")\n    \nexcept Exception as e:\n    print(f\"\\n❌ Unexpected error: {e}\")\n    print(\"\\n💡 Try running all cells again from the top\")\n    import traceback\n    print(\"\\nFull error details:\")\n    traceback.print_exc()"
  },
  {
   "cell_type": "markdown",
   "metadata": {
    "id": "notes"
   },
   "source": "---\n\n## 🔒 Security Notes\n\n- Your password is **never stored** anywhere\n- Tokens are only shown in this notebook session\n- Don't share your tokens with anyone\n- Keep your Railway variables private\n- 2FA/MFA codes are handled securely during login\n\n## ✅ 2FA Support\n\nThis notebook **fully supports** two-factor authentication! When you run the authentication cell:\n1. Enter your email and password normally\n2. If 2FA is enabled, you'll see a prompt: **\"MFA/Backup code:\"**\n3. Open your authenticator app (Google Authenticator, Authy, etc.)\n4. Enter the 6-digit code\n5. Tokens will be generated successfully!\n\n## 🔄 Token Expiration\n\n- **Access Token**: ~1 hour (auto-refreshes)\n- **Refresh Token**: ~30 days\n- When you see \"401 Unauthorized\" errors, run this notebook again to get fresh tokens\n\n## ❓ Need Help?\n\nIf you have issues, check:\n1. Email/password are correct\n2. If prompted for 2FA, enter the code from your authenticator app\n3. Internet connection is stable\n4. You can log into connect.garmin.com successfully\n\n## 📱 Perfect for iPad!\n\nThis notebook works great on iPad via Safari:\n1. Upload to Google Colab\n2. Run all cells\n3. Enter credentials when prompted\n4. Copy tokens directly to Railway"
  }
 ],
 "metadata": {
  "colab": {
   "name": "Get Garmin Tokens",
   "provenance": []
  },
  "kernelspec": {
   "display_name": "Python 3",
   "language": "python",
   "name": "python3"
  },
  "language_info": {
   "codemirror_mode": {
    "name": "ipython",
    "version": 3
   },
   "file_extension": ".py",
   "mimetype": "text/x-python",
   "name": "python",
   "nbconvert_exporter": "python",
   "pygments_lexer": "ipython3",
   "version": "3.8.10"
  }
 },
 "nbformat": 4,
 "nbformat_minor": 0
}